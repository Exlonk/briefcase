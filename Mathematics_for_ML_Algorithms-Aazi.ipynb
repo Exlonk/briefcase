{
 "cells": [
  {
   "cell_type": "markdown",
   "id": "dc62439a",
   "metadata": {},
   "source": [
    "<h3 style=\"color:orange; text-align:center;\"> Mathematics for ML [Algorithms] </h3>"
   ]
  },
  {
   "cell_type": "markdown",
   "id": "2ca7f91c",
   "metadata": {},
   "source": [
    "From:MATHEMATICS FOR MACHINE LEARNING\n",
    "\n",
    "By: Mohamed Aazi"
   ]
  },
  {
   "cell_type": "markdown",
   "id": "9b8b45ff",
   "metadata": {},
   "source": [
    "--------------------------------------"
   ]
  },
  {
   "cell_type": "markdown",
   "id": "2c293d3d",
   "metadata": {},
   "source": [
    "<h4 style=\"color:cyan;\">1. LINEAR ALGEBRA </h4>"
   ]
  },
  {
   "cell_type": "markdown",
   "id": "cf52a23d",
   "metadata": {},
   "source": [
    "<h5 style=\"color:orange;\"> 1.1 Vector addition </h5>"
   ]
  },
  {
   "cell_type": "code",
   "execution_count": 3,
   "id": "9efc04b4",
   "metadata": {},
   "outputs": [
    {
     "name": "stdout",
     "output_type": "stream",
     "text": [
      "[4 6]\n"
     ]
    }
   ],
   "source": [
    "import numpy as np\n",
    "\n",
    "u = np.array([1,2])\n",
    "v = np.array([3,4])\n",
    "print(u+v)"
   ]
  },
  {
   "cell_type": "markdown",
   "id": "a742b430",
   "metadata": {},
   "source": [
    "<h5 style=\"color:orange;\"> 1.2 Scalar multiplication of a vector </h5>"
   ]
  },
  {
   "cell_type": "code",
   "execution_count": 5,
   "id": "5815d935",
   "metadata": {},
   "outputs": [
    {
     "name": "stdout",
     "output_type": "stream",
     "text": [
      "[ 6 -3]\n"
     ]
    }
   ],
   "source": [
    "import numpy as np\n",
    "\n",
    "alpha = 3\n",
    "v = np.array([2,-1])\n",
    "print(alpha * v)"
   ]
  },
  {
   "cell_type": "markdown",
   "id": "e321329e",
   "metadata": {},
   "source": [
    "<h5 style=\"color:orange;\"> 1.3 Dot product </h5>"
   ]
  },
  {
   "cell_type": "code",
   "execution_count": 6,
   "id": "ad55516d",
   "metadata": {},
   "outputs": [
    {
     "name": "stdout",
     "output_type": "stream",
     "text": [
      "11\n"
     ]
    }
   ],
   "source": [
    "import numpy as np\n",
    "\n",
    "u = np.array([1,2])\n",
    "v = np.array([3,4])\n",
    "dot_product = np.dot(u,v)\n",
    "print(dot_product)\n"
   ]
  },
  {
   "cell_type": "markdown",
   "id": "81a2467d",
   "metadata": {},
   "source": [
    "<h5 style=\"color:orange;\"> 1.4 Cross product (3D) </h5>"
   ]
  },
  {
   "cell_type": "code",
   "execution_count": 7,
   "id": "6988586e",
   "metadata": {},
   "outputs": [
    {
     "name": "stdout",
     "output_type": "stream",
     "text": [
      "[0 0 1]\n"
     ]
    }
   ],
   "source": [
    "import numpy as np\n",
    "u = np.array([1,0,0])\n",
    "v = np.array([0,1,0])\n",
    "cross_product = np.cross(u,v)\n",
    "print(cross_product)"
   ]
  },
  {
   "cell_type": "markdown",
   "id": "b6899344",
   "metadata": {},
   "source": [
    "<h5 style=\"color:orange;\"> 1.5 Norm of a vector (Euclidean) </h5>"
   ]
  },
  {
   "cell_type": "code",
   "execution_count": 8,
   "id": "581dc153",
   "metadata": {},
   "outputs": [
    {
     "name": "stdout",
     "output_type": "stream",
     "text": [
      "5.0\n"
     ]
    }
   ],
   "source": [
    "import numpy as np\n",
    "v = np.array([3,4])\n",
    "norm = np.linalg.norm(v)\n",
    "print(norm)"
   ]
  },
  {
   "cell_type": "markdown",
   "id": "3a394a63",
   "metadata": {},
   "source": [
    "<h5 style=\"color:orange;\"> 1.6 Orthogonality condition </h5>"
   ]
  },
  {
   "cell_type": "code",
   "execution_count": 9,
   "id": "5cb08b43",
   "metadata": {},
   "outputs": [
    {
     "name": "stdout",
     "output_type": "stream",
     "text": [
      "0\n"
     ]
    }
   ],
   "source": [
    "import numpy as np\n",
    "u = np.array([1,2])\n",
    "v = np.array([-2,1])\n",
    "dot_product = np.dot(u,v)\n",
    "print(dot_product)"
   ]
  },
  {
   "cell_type": "markdown",
   "id": "b25018e1",
   "metadata": {},
   "source": [
    "<h5 style=\"color:orange;\"> 1.7 Matrix addition </h5>"
   ]
  },
  {
   "cell_type": "code",
   "execution_count": 14,
   "id": "7aeef4d2",
   "metadata": {},
   "outputs": [
    {
     "name": "stdout",
     "output_type": "stream",
     "text": [
      "[[ 6  8]\n",
      " [10 12]]\n"
     ]
    }
   ],
   "source": [
    "import numpy as np\n",
    "A = np.array([[1,2],[3,4]])\n",
    "B = np.array([[5,6],[7,8]])\n",
    "print(A + B)"
   ]
  },
  {
   "cell_type": "markdown",
   "id": "43302834",
   "metadata": {},
   "source": [
    "<h5 style=\"color:orange;\"> 1.8 Matrix scalar multiplication </h5>"
   ]
  },
  {
   "cell_type": "code",
   "execution_count": 17,
   "id": "77426646",
   "metadata": {},
   "outputs": [
    {
     "name": "stdout",
     "output_type": "stream",
     "text": [
      "[[2 4]\n",
      " [6 8]]\n"
     ]
    }
   ],
   "source": [
    "import numpy as np\n",
    "alpha = 2\n",
    "A = np.array([[1,2],[3,4]])\n",
    "print(alpha * A)"
   ]
  },
  {
   "cell_type": "markdown",
   "id": "c4a5cb08",
   "metadata": {},
   "source": [
    "<h5 style=\"color:orange;\"> 1.9 Matrix-vector multiplication </h5>"
   ]
  },
  {
   "cell_type": "code",
   "execution_count": 11,
   "id": "5fa6faab",
   "metadata": {},
   "outputs": [
    {
     "name": "stdout",
     "output_type": "stream",
     "text": [
      "Right side multiplication:\n",
      "[17 39]\n",
      "[17 39]\n",
      "Left side multiplication:\n",
      "[23 34]\n"
     ]
    }
   ],
   "source": [
    "import numpy as np\n",
    "A = np.array([[1,2],[3,4]])\n",
    "x = np.array([5,6])\n",
    "\n",
    "print(\"Right side multiplication:\")\n",
    "print(A @ x)\n",
    "print(np.dot(A,x))\n",
    "print(\"Left side multiplication:\")\n",
    "print(x @ A)"
   ]
  },
  {
   "cell_type": "markdown",
   "id": "8d912c64",
   "metadata": {},
   "source": [
    "<h5 style=\"color:orange;\"> 1.10 Matrix multiplication </h5>"
   ]
  },
  {
   "cell_type": "code",
   "execution_count": 14,
   "id": "52480236",
   "metadata": {},
   "outputs": [
    {
     "name": "stdout",
     "output_type": "stream",
     "text": [
      "A by the left side\n",
      "[[19 22]\n",
      " [43 50]]\n",
      "B by the left side\n",
      "[[23 34]\n",
      " [31 46]]\n"
     ]
    }
   ],
   "source": [
    "import numpy as np\n",
    "A = np.array([[1,2],[3,4]])\n",
    "B = np.array([[5,6],[7,8]])\n",
    "print(\"A by the left side\")\n",
    "print(A @ B)\n",
    "print(\"B by the left side\")\n",
    "print(B @ A)"
   ]
  },
  {
   "cell_type": "markdown",
   "id": "852732be",
   "metadata": {},
   "source": [
    "<h5 style=\"color:orange;\"> 1.11 Transpose of a Matrix </h5>"
   ]
  },
  {
   "cell_type": "code",
   "execution_count": 18,
   "id": "97372de6",
   "metadata": {},
   "outputs": [
    {
     "name": "stdout",
     "output_type": "stream",
     "text": [
      "[[1 3]\n",
      " [2 4]]\n"
     ]
    }
   ],
   "source": [
    "import numpy as np\n",
    "A = np.array([[1,2],[3,4]])\n",
    "print(A.T)"
   ]
  },
  {
   "cell_type": "markdown",
   "id": "c85f4bef",
   "metadata": {},
   "source": [
    "<h5 style=\"color:orange;\"> 1.12 Determinant of a 2x2 matrix </h5>"
   ]
  },
  {
   "cell_type": "code",
   "execution_count": 16,
   "id": "c43286eb",
   "metadata": {},
   "outputs": [
    {
     "data": {
      "text/plain": [
       "np.float64(-14.000000000000004)"
      ]
     },
     "execution_count": 16,
     "metadata": {},
     "output_type": "execute_result"
    }
   ],
   "source": [
    "import numpy as np\n",
    "A = np.array([[3,8],[4,6]])\n",
    "np.linalg.det(A)"
   ]
  },
  {
   "cell_type": "markdown",
   "id": "5eea0c97",
   "metadata": {},
   "source": [
    "<h5 style=\"color:orange;\"> 1.13 Inverse of a 2x2 matrix </h5>"
   ]
  },
  {
   "cell_type": "code",
   "execution_count": 14,
   "id": "64aac250",
   "metadata": {},
   "outputs": [
    {
     "name": "stdout",
     "output_type": "stream",
     "text": [
      "test\n",
      "[[1. 0.]\n",
      " [0. 1.]]\n"
     ]
    }
   ],
   "source": [
    "import numpy as np\n",
    "A = np.array([[3,8],[4,6]])\n",
    "A_inv = np.linalg.inv(A)\n",
    "print(\"test\")\n",
    "print(A @ A_inv)"
   ]
  },
  {
   "cell_type": "markdown",
   "id": "ab7d603f",
   "metadata": {},
   "source": [
    "<h5 style=\"color:orange;\"> 1.14 Cramer's rule </h5>"
   ]
  },
  {
   "cell_type": "markdown",
   "id": "35edb67c",
   "metadata": {},
   "source": [
    "Cramer's rule solve system of equations Ax = b"
   ]
  },
  {
   "cell_type": "markdown",
   "id": "46ca0657",
   "metadata": {},
   "source": [
    "\\begin{align}\n",
    "\\text{Example: For } \\mathbf{A} &= \\begin{bmatrix} 2 & 1 \\\\ 1 & 3 \\end{bmatrix} \\text{ and } \\mathbf{b} = \\begin{bmatrix} 5 \\\\ 7 \\end{bmatrix}, \\\\[1em]\n",
    "\\mathbf{A}_1 &= \\begin{bmatrix} 5 & 1 \\\\ 7 & 3 \\end{bmatrix}, \\quad \\mathbf{A}_2 = \\begin{bmatrix} 2 & 5 \\\\ 1 & 7 \\end{bmatrix} \\\\[1em]\n",
    "\\text{and } \\det(\\mathbf{A}) &= 5, \\text{ so } x_1 = \\frac{\\det(\\mathbf{A}_1)}{\\det(\\mathbf{A})}, \\quad x_2 = \\frac{\\det(\\mathbf{A}_2)}{\\det(\\mathbf{A})}\n",
    "\\end{align}"
   ]
  },
  {
   "cell_type": "code",
   "execution_count": 10,
   "id": "0981976c",
   "metadata": {},
   "outputs": [
    {
     "name": "stdout",
     "output_type": "stream",
     "text": [
      "[1.6 1.8]\n"
     ]
    }
   ],
   "source": [
    "import numpy as np\n",
    "\n",
    "A = np.array([[2,1],[1,3]])\n",
    "b = np.array([5,7])\n",
    "det_A = np.linalg.det(A)\n",
    "x = [np.linalg.det(np.column_stack([b if j == i else A[:,j] for j in range(A.shape[1])])) / det_A for i in range(A.shape[1])]\n",
    "print(np.round(x,3))"
   ]
  },
  {
   "cell_type": "code",
   "execution_count": 12,
   "id": "22ccdac5",
   "metadata": {},
   "outputs": [
    {
     "name": "stdout",
     "output_type": "stream",
     "text": [
      "Solution: [1.6 1.8]\n"
     ]
    },
    {
     "data": {
      "text/plain": [
       "array([5., 7.])"
      ]
     },
     "execution_count": 12,
     "metadata": {},
     "output_type": "execute_result"
    }
   ],
   "source": [
    "def solve_cramer_rule(A, b):\n",
    "    \"\"\"\n",
    "    Solve linear system Ax = b using Cramer's rule.\n",
    "    \n",
    "    Parameters:\n",
    "    A (np.array): Coefficient matrix (n x n)\n",
    "    b (np.array): Right-hand side vector (n,)\n",
    "    \n",
    "    Returns:\n",
    "    np.array: Solution vector x\n",
    "    \"\"\"\n",
    "    # Calculate determinant of coefficient matrix A\n",
    "    det_A = np.linalg.det(A)\n",
    "    \n",
    "    # Check if system has unique solution\n",
    "    if np.abs(det_A) < 1e-10:\n",
    "        raise ValueError(\"Matrix A is singular - no unique solution exists\")\n",
    "    \n",
    "    # Get number of variables\n",
    "    n = A.shape[1]\n",
    "    \n",
    "    # Initialize solution vector\n",
    "    x = np.zeros(n)\n",
    "    \n",
    "    # Apply Cramer's rule: x[i] = det(A_i) / det(A)\n",
    "    for i in range(n):\n",
    "        # Create matrix A_i by replacing column i with vector b\n",
    "        A_i = A.copy()\n",
    "        A_i[:, i] = b\n",
    "        \n",
    "        # Calculate x[i] using Cramer's rule\n",
    "        x[i] = np.linalg.det(A_i) / det_A\n",
    "    \n",
    "    return x\n",
    "\n",
    "# Example usage\n",
    "A = np.array([[2, 1], [1, 3]])\n",
    "b = np.array([5, 7])\n",
    "solution = solve_cramer_rule(A, b)\n",
    "print(\"Solution:\", solution)\n",
    "# Test\n",
    "A @ x"
   ]
  },
  {
   "cell_type": "markdown",
   "id": "e26f99d2",
   "metadata": {},
   "source": [
    "<h5 style=\"color:orange;\"> 1.15 Inverse of a square matrix </h5>"
   ]
  },
  {
   "cell_type": "code",
   "execution_count": null,
   "id": "a0eac006",
   "metadata": {},
   "outputs": [
    {
     "name": "stdout",
     "output_type": "stream",
     "text": [
      "[[ 0.6 -0.7]\n",
      " [-0.2  0.4]]\n",
      "test\n",
      "[[ 1.  0.]\n",
      " [-0.  1.]]\n"
     ]
    }
   ],
   "source": [
    "import numpy as np\n",
    "A = np.array([[4,7],[2,6]])\n",
    "A_inv = np.linalg.inv(A)\n",
    "print(A_inv)\n",
    "print(\"test\")\n",
    "print(np.round(A @ A_inv, 6))"
   ]
  },
  {
   "cell_type": "markdown",
   "id": "27fca277",
   "metadata": {},
   "source": [
    "<h5 style=\"color:orange;\"> 1.16 Determinant of a triangular matrix </h5>"
   ]
  },
  {
   "cell_type": "markdown",
   "id": "94f13cf8",
   "metadata": {},
   "source": [
    "$$\\textcolor{cyan}{\\det(\\mathbf{A}) = \\prod_{i=1}^{n} a_{ii}}$$"
   ]
  },
  {
   "cell_type": "code",
   "execution_count": 4,
   "id": "182f77ca",
   "metadata": {},
   "outputs": [
    {
     "name": "stdout",
     "output_type": "stream",
     "text": [
      "30\n"
     ]
    }
   ],
   "source": [
    "import numpy as np\n",
    "A = np.array([[2,1,0],[0,3,4],[0,0,5]])\n",
    "det_A = np.prod(np.diag(A))\n",
    "print(det_A)\n"
   ]
  },
  {
   "cell_type": "markdown",
   "id": "51f4b745",
   "metadata": {},
   "source": [
    "<h5 style=\"color:orange;\"> 1.17 Rank-nullity theorem </h5>"
   ]
  },
  {
   "cell_type": "markdown",
   "id": "94e7a260",
   "metadata": {},
   "source": [
    "Rank = # of independent columns (or rows)\n",
    "\n",
    "Nullity = # of solutions to Ax=0 (free variables)\n",
    "\n",
    "Theorem :\n",
    "\n",
    "rank(A) + nullity(A) = n (number of columns)"
   ]
  },
  {
   "cell_type": "code",
   "execution_count": 5,
   "id": "171fa747",
   "metadata": {},
   "outputs": [
    {
     "name": "stdout",
     "output_type": "stream",
     "text": [
      "2\n",
      "1\n"
     ]
    }
   ],
   "source": [
    "import numpy as np\n",
    "\n",
    "A = np.array([[1,2,3],[4,5,6],[7,8,9]])\n",
    "rank_A = np.linalg.matrix_rank(A)\n",
    "print(rank_A)\n",
    "nullity = A.shape[1] - rank_A\n",
    "print(nullity)"
   ]
  },
  {
   "cell_type": "markdown",
   "id": "764038cf",
   "metadata": {},
   "source": [
    "<h5 style=\"color:orange;\"> 1.18 Hadarman (elementwise) product </h5>"
   ]
  },
  {
   "cell_type": "code",
   "execution_count": null,
   "id": "dd73a398",
   "metadata": {},
   "outputs": [],
   "source": []
  }
 ],
 "metadata": {
  "kernelspec": {
   "display_name": "base",
   "language": "python",
   "name": "python3"
  },
  "language_info": {
   "codemirror_mode": {
    "name": "ipython",
    "version": 3
   },
   "file_extension": ".py",
   "mimetype": "text/x-python",
   "name": "python",
   "nbconvert_exporter": "python",
   "pygments_lexer": "ipython3",
   "version": "3.10.15"
  }
 },
 "nbformat": 4,
 "nbformat_minor": 5
}
